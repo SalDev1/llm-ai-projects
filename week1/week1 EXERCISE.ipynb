{
 "cells": [
  {
   "cell_type": "markdown",
   "id": "fe12c203-e6a6-452c-a655-afb8a03a4ff5",
   "metadata": {},
   "source": [
    "# End of week 1 exercise\n",
    "\n",
    "To demonstrate your familiarity with OpenAI API, and also Ollama, build a tool that takes a technical question,  \n",
    "and responds with an explanation. This is a tool that you will be able to use yourself during the course!"
   ]
  },
  {
   "cell_type": "code",
   "execution_count": 1,
   "id": "c1070317-3ed9-4659-abe3-828943230e03",
   "metadata": {},
   "outputs": [],
   "source": [
    "# imports\n",
    "import os\n",
    "import requests\n",
    "from dotenv import load_dotenv\n",
    "from IPython.display import Markdown, display, update_display\n",
    "from openai import OpenAI"
   ]
  },
  {
   "cell_type": "code",
   "execution_count": 2,
   "id": "4a456906-915a-4bfd-bb9d-57e505c5093f",
   "metadata": {},
   "outputs": [],
   "source": [
    "# constants\n",
    "MODEL_GPT = 'gpt-4o-mini'\n",
    "MODEL_LLAMA = 'llama3.2'"
   ]
  },
  {
   "cell_type": "code",
   "execution_count": 3,
   "id": "a8d7923c-5f28-4c30-8556-342d7c8497c1",
   "metadata": {},
   "outputs": [
    {
     "name": "stdout",
     "output_type": "stream",
     "text": [
      "API key looks good so far\n"
     ]
    }
   ],
   "source": [
    "# set up environment\n",
    "load_dotenv(override=True)\n",
    "API_KEY =os.getenv('OPENAI_API_KEY');\n",
    "\n",
    "if API_KEY and API_KEY.startswith('sk-proj-') and len(API_KEY)>10:\n",
    "    print(\"API key looks good so far\")\n",
    "else:\n",
    "    print(\"There might be a problem with your API key? Please visit the troubleshooting notebook!\")\n",
    "\n",
    "openai = OpenAI();"
   ]
  },
  {
   "cell_type": "code",
   "execution_count": 4,
   "id": "3f0d0137-52b0-47a8-81a8-11a90a010798",
   "metadata": {},
   "outputs": [],
   "source": [
    "# here is the question; type over this to ask something new\n",
    "question = \"\"\"\n",
    "Please explain what this code does and why:\n",
    "yield from {book.get(\"author\") for book in books if book.get(\"author\")}\n",
    "\"\"\""
   ]
  },
  {
   "cell_type": "code",
   "execution_count": 5,
   "id": "e59b54af",
   "metadata": {},
   "outputs": [],
   "source": [
    "messages = [\n",
    "    {\"role\":\"system\", \"content\": \"You are a helpful code assistant which helps explain any code in the easiest manner with code examples\"},\n",
    "    {\"role\":\"user\", \"content\": question}\n",
    "]"
   ]
  },
  {
   "cell_type": "code",
   "execution_count": null,
   "id": "60ce7000-a4a5-4cce-a261-e75ef45063b4",
   "metadata": {},
   "outputs": [],
   "source": [
    "# Get gpt-4o-mini to answer, with streaming\n",
    "def stream_response():\n",
    "   stream = openai.chat.completions.create(model=MODEL_GPT, messages=messages, stream=True)\n",
    "   response = \"\"\n",
    "   display_handle = display(Markdown(\"\"), display_id=True)\n",
    "   for chunk in stream:\n",
    "        response += chunk.choices[0].delta.content or ''\n",
    "        response = response.replace(\"```\",\"\").replace(\"markdown\", \"\")\n",
    "        update_display(Markdown(response), display_id=display_handle.display_id)"
   ]
  },
  {
   "cell_type": "code",
   "execution_count": null,
   "id": "74c5d6f6",
   "metadata": {},
   "outputs": [
    {
     "data": {
      "text/markdown": [
       "This line of code is using a Python feature called a generator expression and the `yield from` statement to yield values from an iterable. Let's break it down step by step to understand it fully.\n",
       "\n",
       "### Explanation of the Code\n",
       "\n",
       "1. **Generator Expression**:\n",
       "   - `{book.get(\"author\") for book in books if book.get(\"author\")}`\n",
       "   - This is a set comprehension, which creates a set of unique authors. \n",
       "   - It iterates through a collection named `books`, where each `book` is expected to be a dictionary.\n",
       "   - `book.get(\"author\")` fetches the value associated with the key `\"author\"` in the `book` dictionary.\n",
       "   - The `if book.get(\"author\")` condition ensures that only books which have an `\"author\"` key (and a non-None value) are processed.\n",
       "\n",
       "2. **Yielding Values**:\n",
       "   - `yield from ...` is used to yield all values from an iterable (in this case, the set of authors).\n",
       "   - This means that when the surrounding function (that contains this line of code) is called, it will yield each unique author found in the `books` collection, one by one.\n",
       "\n",
       "### Example Code\n",
       "\n",
       "Let's create a simple example to demonstrate how this works:\n",
       "\n",
       "python\n",
       "def get_unique_authors(books):\n",
       "    yield from {book.get(\"author\") for book in books if book.get(\"author\")}\n",
       "\n",
       "# Sample books list\n",
       "books = [\n",
       "    {\"title\": \"Book A\", \"author\": \"Author 1\"},\n",
       "    {\"title\": \"Book B\", \"author\": \"Author 2\"},\n",
       "    {\"title\": \"Book C\", \"author\": None},\n",
       "    {\"title\": \"Book D\", \"author\": \"Author 1\"},\n",
       "    {\"title\": \"Book E\"},\n",
       "]\n",
       "\n",
       "# Using the generator function\n",
       "for author in get_unique_authors(books):\n",
       "    print(author)\n",
       "\n",
       "\n",
       "### What Happens in the Code?\n",
       "\n",
       "- The `books` list contains dictionaries with book details, some of which have an \"author\" key and some do not.\n",
       "- When you call `get_unique_authors(books)`, it processes the `books` list:\n",
       "  - It collects authors into a set, automatically handling duplicates (`\"Author 1\"` appears twice but will only be in the set once).\n",
       "  - It then yields each unique author.\n",
       "  \n",
       "### Output of the Example\n",
       "\n",
       "The output of the above example would be:\n",
       "\n",
       "Author 1\n",
       "Author 2\n",
       "\n",
       "\n",
       "This shows that the code successfully collected unique author names from the list of books and printed them without any duplicates or entries for books that did not have an author. \n",
       "\n",
       "### Summary\n",
       "\n",
       "- The code effectively collects unique author names from a list of book dictionaries and yields them one at a time using a generator function.\n",
       "- The combination of set comprehension and `yield from` allows for concise and efficient handling of the data."
      ],
      "text/plain": [
       "<IPython.core.display.Markdown object>"
      ]
     },
     "metadata": {},
     "output_type": "display_data"
    }
   ],
   "source": [
    "stream_response()"
   ]
  },
  {
   "cell_type": "code",
   "execution_count": 41,
   "id": "8f7c8ea8-4082-4ad0-8751-3301adcf6538",
   "metadata": {},
   "outputs": [],
   "source": [
    "# Get Llama 3.2 to answer\n",
    "import ollama\n",
    "\n",
    "def stream_response_llama():\n",
    "   response = ollama.chat(model=MODEL_LLAMA, messages=messages)\n",
    "   return display(Markdown(response['message']['content']))"
   ]
  },
  {
   "cell_type": "code",
   "execution_count": 42,
   "id": "e38093b7",
   "metadata": {},
   "outputs": [
    {
     "data": {
      "text/markdown": [
       "**Code Explanation**\n",
       "\n",
       "This line of code is using a feature called **yield from** in Python, which allows us to delegate the iteration to another iterable (like a generator or an iterator).\n",
       "\n",
       "Here's what it does:\n",
       "\n",
       "1. It uses a dictionary comprehension (`{... for ...}`) to create a new dictionary that contains only the values from the `author` key.\n",
       "2. The `for book in books if book.get(\"author\")` part filters the list of dictionaries (`books`) to only include those that have an `author` key.\n",
       "3. Finally, it uses `yield from` to delegate the iteration over this filtered dictionary comprehension.\n",
       "\n",
       "**Why does it do this?**\n",
       "\n",
       "In essence, we want to iterate over all the books in the list, but only for books that have an author. This is because we need to access the author's name, which is stored under the \"author\" key.\n",
       "\n",
       "By using `yield from`, we're essentially saying: \"take the filtered dictionary comprehension and yield each value one by one\". The resulting values are then available in the scope where we used this line of code.\n",
       "\n",
       "**Example use case**\n",
       "\n",
       "Suppose we have a list of books:\n",
       "```python\n",
       "books = [\n",
       "    {\"title\": \"Book 1\", \"author\": \"John\"},\n",
       "    {\"title\": \"Book 2\", \"author\": None},\n",
       "    {\"title\": \"Book 3\", \"author\": \"Jane\"}\n",
       "]\n",
       "```\n",
       "We can use this line of code to extract the author's name for each book:\n",
       "```python\n",
       "authors = yield from {book.get(\"author\") for book in books if book.get(\"author\")}\n",
       "print(authors)  # Output: ['John', 'Jane']\n",
       "```\n",
       "This way, we only iterate over the books that have an author, and we get the corresponding author's name.\n",
       "\n",
       "**Note**: In Python 3.5+, you can use `yield from` with dictionaries and other iterables to create a new iterable that delegates the iteration to another iterable."
      ],
      "text/plain": [
       "<IPython.core.display.Markdown object>"
      ]
     },
     "metadata": {},
     "output_type": "display_data"
    }
   ],
   "source": [
    "stream_response_llama()"
   ]
  }
 ],
 "metadata": {
  "kernelspec": {
   "display_name": "Python 3",
   "language": "python",
   "name": "python3"
  },
  "language_info": {
   "codemirror_mode": {
    "name": "ipython",
    "version": 3
   },
   "file_extension": ".py",
   "mimetype": "text/x-python",
   "name": "python",
   "nbconvert_exporter": "python",
   "pygments_lexer": "ipython3",
   "version": "3.13.0"
  }
 },
 "nbformat": 4,
 "nbformat_minor": 5
}
